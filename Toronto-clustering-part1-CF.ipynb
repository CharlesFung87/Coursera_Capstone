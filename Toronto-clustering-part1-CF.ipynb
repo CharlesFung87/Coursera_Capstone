{
 "cells": [
  {
   "cell_type": "markdown",
   "metadata": {},
   "source": [
    " #### Part 1 DataFrame of Neighborhools in Toronto by web scraping from Wikipedia"
   ]
  },
  {
   "cell_type": "markdown",
   "metadata": {},
   "source": [
    "This is for assignment Segmenting and Clustering Neighborhoods in Toronto"
   ]
  },
  {
   "cell_type": "markdown",
   "metadata": {},
   "source": [
    "**Created by: Charles Fung**  11/2018"
   ]
  },
  {
   "cell_type": "markdown",
   "metadata": {},
   "source": [
    "#### Requirements from lab assignment web page in Coursera:\n",
    "\n",
    "1. Scrape Wikipedia page, https://en.wikipedia.org/wiki/List_of_postal_codes_of_Canada:_M,\n",
    "1. The dataframe will consist of three columns: PostalCode, Borough, and Neighborhood\n",
    "1. Only process the cells that have an assigned borough. Ignore cells with a borough that is Not assigned.\n",
    "1. More than one neighborhood can exist in one postal code area. For example, in the table on the Wikipedia page, you will notice that M5A is listed twice and has two neighborhoods: Harbourfront and Regent Park. These two rows will be combined into one row with the neighborhoods separated with a comma as shown in row 11 in the above table.\n",
    "1. If a cell has a borough but a Not assigned neighborhood, then the neighborhood will be the same as the borough. So for the 9th cell in the table on the Wikipedia page, the value of the Borough and the Neighborhood columns will be Queen's Park."
   ]
  },
  {
   "cell_type": "markdown",
   "metadata": {},
   "source": [
    "##### Assumptions:\n",
    "1. When two neighborhoods are combined, they are separated with a comma **ONLY**. The assignment web page in Coursera shows a space following the comma.\n",
    "1. When two neighborhoods are combined, their names are not ordered. The assignment web page in Coursera does not show them in any specific order. The script below preserves the same order as they appear in the Wikipedia page.\n",
    "1. Assumed that the names in the Wikipedia page table are consistent in spelling. For example, 'East Toronto' and 'east Toronto' will be treated as different boroughs.\n",
    "1. Some of the Neighborhools in the result DataFrame actually do not belong but we will leave them in, e.g.\n",
    "    - M5W\tDowntown Toronto\t\"Stn A PO Boxes 25 The Esplanade\" (specific PO Boxes?)\n",
    "    - M7Y\tEast Toronto\t\"Business reply mail Processing Centre969 Eastern\"  (specific facility?)\n",
    "    - M7R\tMississauga\t\"Canada Post Gateway Processing Centre\" (Mississauga is officially not part of Toronto)"
   ]
  },
  {
   "cell_type": "code",
   "execution_count": 1,
   "metadata": {},
   "outputs": [
    {
     "name": "stdout",
     "output_type": "stream",
     "text": [
      "Libraries imported.\n"
     ]
    }
   ],
   "source": [
    "import pandas as pd # library for data analsysis\n",
    "pd.set_option('display.max_columns', None)\n",
    "pd.set_option('display.max_rows', None)\n",
    "\n",
    "import requests # library to handle requests\n",
    "\n",
    "# uncomment the line to install beautifulsoup4\n",
    "#!conda install -c conda-forge beautifulsoup4 --yes\n",
    "from bs4 import BeautifulSoup # library to parse html\n",
    "\n",
    "print('Libraries imported.')"
   ]
  },
  {
   "cell_type": "code",
   "execution_count": 2,
   "metadata": {},
   "outputs": [],
   "source": [
    "url = \"https://en.wikipedia.org/wiki/List_of_postal_codes_of_Canada:_M\"\n",
    "html = requests.get(url).content\n",
    "soup = BeautifulSoup(html, 'html.parser') # create the soup, using basic html parser\n",
    "table = soup.find('table', class_='wikitable') # access the table by its class_"
   ]
  },
  {
   "cell_type": "code",
   "execution_count": 3,
   "metadata": {},
   "outputs": [
    {
     "data": {
      "text/plain": [
       "[['M3A', 'North York', 'Parkwoods'],\n",
       " ['M4A', 'North York', 'Victoria Village'],\n",
       " ['M5A', 'Downtown Toronto', 'Harbourfront,Regent Park'],\n",
       " ['M6A', 'North York', 'Lawrence Heights,Lawrence Manor'],\n",
       " ['M7A', \"Queen's Park\", \"Queen's Park\"]]"
      ]
     },
     "execution_count": 3,
     "metadata": {},
     "output_type": "execute_result"
    }
   ],
   "source": [
    "# iterate the rows and cells in the table\n",
    "rows = []\n",
    "prev_row = [] # previous row\n",
    "for row in table.find_all('tr'):\n",
    "    cells = []\n",
    "    for cell in row.find_all('td'):\n",
    "        cells.append(cell.text.strip('\\n')) # capture cell text and remove trailing \\n\n",
    "    if len(cells) and (cells[1]!=\"Not assigned\"):\n",
    "        # if Neighborhood is Not Assigned, use the same from Borough\n",
    "        if cells[2] == \"Not assigned\":\n",
    "            cells[2] = cells[1]\n",
    "        # if Postal Code and Borough in this row and the previous row match, concatenate the Neighborhood\n",
    "        # and put into the previous row\n",
    "        if len(prev_row) and (cells[0:2] == prev_row[0:2]):\n",
    "            prev_row[2] = ','.join([prev_row[2], cells[2]])\n",
    "        else:\n",
    "            prev_row = cells\n",
    "            rows.append(cells)\n",
    "\n",
    "rows[0:5] #sanity check            "
   ]
  },
  {
   "cell_type": "code",
   "execution_count": 4,
   "metadata": {},
   "outputs": [
    {
     "data": {
      "text/html": [
       "<div>\n",
       "<style scoped>\n",
       "    .dataframe tbody tr th:only-of-type {\n",
       "        vertical-align: middle;\n",
       "    }\n",
       "\n",
       "    .dataframe tbody tr th {\n",
       "        vertical-align: top;\n",
       "    }\n",
       "\n",
       "    .dataframe thead th {\n",
       "        text-align: right;\n",
       "    }\n",
       "</style>\n",
       "<table border=\"1\" class=\"dataframe\">\n",
       "  <thead>\n",
       "    <tr style=\"text-align: right;\">\n",
       "      <th></th>\n",
       "      <th>PostalCode</th>\n",
       "      <th>Borough</th>\n",
       "      <th>Neighborhood</th>\n",
       "    </tr>\n",
       "  </thead>\n",
       "  <tbody>\n",
       "    <tr>\n",
       "      <th>0</th>\n",
       "      <td>M3A</td>\n",
       "      <td>North York</td>\n",
       "      <td>Parkwoods</td>\n",
       "    </tr>\n",
       "    <tr>\n",
       "      <th>1</th>\n",
       "      <td>M4A</td>\n",
       "      <td>North York</td>\n",
       "      <td>Victoria Village</td>\n",
       "    </tr>\n",
       "    <tr>\n",
       "      <th>2</th>\n",
       "      <td>M5A</td>\n",
       "      <td>Downtown Toronto</td>\n",
       "      <td>Harbourfront,Regent Park</td>\n",
       "    </tr>\n",
       "    <tr>\n",
       "      <th>3</th>\n",
       "      <td>M6A</td>\n",
       "      <td>North York</td>\n",
       "      <td>Lawrence Heights,Lawrence Manor</td>\n",
       "    </tr>\n",
       "    <tr>\n",
       "      <th>4</th>\n",
       "      <td>M7A</td>\n",
       "      <td>Queen's Park</td>\n",
       "      <td>Queen's Park</td>\n",
       "    </tr>\n",
       "  </tbody>\n",
       "</table>\n",
       "</div>"
      ],
      "text/plain": [
       "  PostalCode           Borough                     Neighborhood\n",
       "0        M3A        North York                        Parkwoods\n",
       "1        M4A        North York                 Victoria Village\n",
       "2        M5A  Downtown Toronto         Harbourfront,Regent Park\n",
       "3        M6A        North York  Lawrence Heights,Lawrence Manor\n",
       "4        M7A      Queen's Park                     Queen's Park"
      ]
     },
     "execution_count": 4,
     "metadata": {},
     "output_type": "execute_result"
    }
   ],
   "source": [
    "df = pd.DataFrame(rows, columns=['PostalCode', 'Borough', 'Neighborhood'])\n",
    "df.head() #sanity check"
   ]
  },
  {
   "cell_type": "code",
   "execution_count": 5,
   "metadata": {},
   "outputs": [
    {
     "data": {
      "text/plain": [
       "North York          24\n",
       "Downtown Toronto    18\n",
       "Scarborough         17\n",
       "Etobicoke           12\n",
       "Central Toronto      9\n",
       "West Toronto         6\n",
       "East Toronto         5\n",
       "York                 5\n",
       "East York            5\n",
       "Queen's Park         1\n",
       "Mississauga          1\n",
       "Name: Borough, dtype: int64"
      ]
     },
     "execution_count": 5,
     "metadata": {},
     "output_type": "execute_result"
    }
   ],
   "source": [
    "df.Borough.value_counts()"
   ]
  },
  {
   "cell_type": "code",
   "execution_count": 6,
   "metadata": {},
   "outputs": [
    {
     "name": "stdout",
     "output_type": "stream",
     "text": [
      "There are 103 rows in the DataFrame\n"
     ]
    }
   ],
   "source": [
    "print(\"There are {} rows in the DataFrame\".format(df.shape[0]))"
   ]
  }
 ],
 "metadata": {
  "kernelspec": {
   "display_name": "Python 3",
   "language": "python",
   "name": "python3"
  },
  "language_info": {
   "codemirror_mode": {
    "name": "ipython",
    "version": 3
   },
   "file_extension": ".py",
   "mimetype": "text/x-python",
   "name": "python",
   "nbconvert_exporter": "python",
   "pygments_lexer": "ipython3",
   "version": "3.6.5"
  }
 },
 "nbformat": 4,
 "nbformat_minor": 2
}
